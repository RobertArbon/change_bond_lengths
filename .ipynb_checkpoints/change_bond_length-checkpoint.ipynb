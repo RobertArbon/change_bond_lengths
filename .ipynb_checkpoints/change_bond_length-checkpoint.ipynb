{
 "cells": [
  {
   "cell_type": "code",
   "execution_count": 30,
   "id": "molecular-athens",
   "metadata": {},
   "outputs": [],
   "source": [
    "import mdtraj as md\n",
    "import numpy as np\n",
    "from copy import deepcopy"
   ]
  },
  {
   "cell_type": "code",
   "execution_count": 64,
   "id": "religious-loading",
   "metadata": {},
   "outputs": [],
   "source": [
    "def change_bond(pdb, fix_atom, flex_atom, new_length, frame=0, inplace=False):\n",
    "    \"\"\"\n",
    "    Changes the bond length between fix_atom (kept fixed) and flex_atom (flexible atom)\n",
    "    to new_length. \n",
    "    \n",
    "    Parameters\n",
    "    ---------\n",
    "    pdb : md.Trajectory \n",
    "        A trajectory\n",
    "    fix_atom, flex_atom : int\n",
    "        Integer index (0-based) of the atom to keep fixed and the atom to move\n",
    "        respectively. \n",
    "    new_length : float\n",
    "        The required bond length\n",
    "    frame : int\n",
    "        the frame of the trajectory\n",
    "    inplace : bool\n",
    "        whether to act on pdb (true) or return a deep copy (false)\n",
    "    \n",
    "    Returns\n",
    "    -------\n",
    "    md.Trajectory\n",
    "        A new trajectory object with the bond changed\n",
    "    \n",
    "    Notes\n",
    "    -----\n",
    "    If you adjust a bond with more than one bond - you will affect more than just one bond\n",
    "    length! Use with caution. \n",
    "    \"\"\"\n",
    "    \n",
    "    old_length = md.compute_distances(pdb, [[fix_atom, flex_atom]])[0][0]\n",
    "    scale = new_length/old_length\n",
    "\n",
    "    # get coordinates or atoms\n",
    "    xyz = pdb.xyz\n",
    "    r1 = xyz[frame, fix_atom, :]\n",
    "    r2 = xyz[frame, flex_atom, :]\n",
    "    \n",
    "    # calculate direction vector and scale to get new coordinates\n",
    "    del_r_scaled = (r2-r1)*scale\n",
    "    new_r2 = r1 + del_r_scaled\n",
    "    \n",
    "    # operate in place? \n",
    "    if inplace:\n",
    "        new_pdb = pdb\n",
    "    else:\n",
    "        new_pdb = deepcopy(pdb)\n",
    "    \n",
    "    # adjust coordinates\n",
    "    new_pdb.xyz[frame, flex_atom, :] = new_r2\n",
    "    \n",
    "    # check \n",
    "    actual_new_length = md.compute_distances(new_pdb, [[fix_atom, flex_atom]])[0][0]\n",
    "    assert np.abs(actual_new_length-new_length)<1e-6, \"New bond length is not the same as 'new_length'\"\n",
    "    \n",
    "    new_fix_atom = new_pdb.xyz[frame, fix_atom, :]\n",
    "    old_fix_atom = pdb.xyz[frame, fix_atom, :]\n",
    "    assert np.allclose(new_fix_atom, old_fix_atom), \"The fix_atom has changed position\"\n",
    "    \n",
    "    return new_pdb"
   ]
  },
  {
   "cell_type": "code",
   "execution_count": 65,
   "id": "cheap-slovak",
   "metadata": {},
   "outputs": [],
   "source": [
    "import pandas as pd\n",
    "\n",
    "\n",
    "def get_dataframe(pdb, frame=0):\n",
    "\n",
    "    df, _ =  pdb.top.to_dataframe()\n",
    "    df = pd.concat([df, pd.DataFrame(pdb.xyz[frame], columns=['x', 'y', 'z'])], axis=1)\n",
    "    return df"
   ]
  },
  {
   "cell_type": "markdown",
   "id": "stainless-chancellor",
   "metadata": {},
   "source": [
    "Load some pdb (pentapeptide in implicit solvent used here)\n",
    "\n",
    "pdb availabe from the folks at FU Berlin, via `mdshare` [here](https://github.com/markovmodel/mdshare)"
   ]
  },
  {
   "cell_type": "code",
   "execution_count": 74,
   "id": "mobile-handbook",
   "metadata": {},
   "outputs": [],
   "source": [
    "pdb = md.load('data/pentapeptide-impl-solv.pdb')\n",
    "\n",
    "# define atom for the bond\n",
    "atom_1, atom_2 = 0, 1\n",
    "new_length = 0.15 # in nm"
   ]
  },
  {
   "cell_type": "markdown",
   "id": "departmental-density",
   "metadata": {},
   "source": [
    "Change the bond with the function"
   ]
  },
  {
   "cell_type": "code",
   "execution_count": 75,
   "id": "brown-likelihood",
   "metadata": {},
   "outputs": [],
   "source": [
    "new_pdb = change_bond(pdb, atom_1, atom_2, new_length)"
   ]
  },
  {
   "cell_type": "markdown",
   "id": "automotive-fancy",
   "metadata": {},
   "source": [
    "Save as a new pdb"
   ]
  },
  {
   "cell_type": "code",
   "execution_count": 76,
   "id": "imported-conservation",
   "metadata": {},
   "outputs": [],
   "source": [
    "new_pdb.save_pdb('data/new_pdb.pdb')"
   ]
  },
  {
   "cell_type": "markdown",
   "id": "afraid-deadline",
   "metadata": {},
   "source": [
    "Double check the correct atoms have move:"
   ]
  },
  {
   "cell_type": "code",
   "execution_count": 77,
   "id": "separated-marijuana",
   "metadata": {},
   "outputs": [],
   "source": [
    "old_df = get_dataframe(pdb)\n",
    "new_df = get_dataframe(new_pdb)\n"
   ]
  },
  {
   "cell_type": "code",
   "execution_count": 78,
   "id": "technical-township",
   "metadata": {},
   "outputs": [
    {
     "data": {
      "text/html": [
       "<div>\n",
       "<style scoped>\n",
       "    .dataframe tbody tr th:only-of-type {\n",
       "        vertical-align: middle;\n",
       "    }\n",
       "\n",
       "    .dataframe tbody tr th {\n",
       "        vertical-align: top;\n",
       "    }\n",
       "\n",
       "    .dataframe thead th {\n",
       "        text-align: right;\n",
       "    }\n",
       "</style>\n",
       "<table border=\"1\" class=\"dataframe\">\n",
       "  <thead>\n",
       "    <tr style=\"text-align: right;\">\n",
       "      <th></th>\n",
       "      <th>serial</th>\n",
       "      <th>name</th>\n",
       "      <th>element</th>\n",
       "      <th>resSeq</th>\n",
       "      <th>resName</th>\n",
       "      <th>chainID</th>\n",
       "      <th>segmentID</th>\n",
       "      <th>x</th>\n",
       "      <th>y</th>\n",
       "      <th>z</th>\n",
       "    </tr>\n",
       "  </thead>\n",
       "  <tbody>\n",
       "    <tr>\n",
       "      <th>0</th>\n",
       "      <td>1</td>\n",
       "      <td>N</td>\n",
       "      <td>N</td>\n",
       "      <td>1</td>\n",
       "      <td>TRP</td>\n",
       "      <td>0</td>\n",
       "      <td></td>\n",
       "      <td>2.108</td>\n",
       "      <td>2.666</td>\n",
       "      <td>1.701</td>\n",
       "    </tr>\n",
       "    <tr>\n",
       "      <th>1</th>\n",
       "      <td>2</td>\n",
       "      <td>H</td>\n",
       "      <td>H</td>\n",
       "      <td>1</td>\n",
       "      <td>TRP</td>\n",
       "      <td>0</td>\n",
       "      <td></td>\n",
       "      <td>2.059</td>\n",
       "      <td>2.724</td>\n",
       "      <td>1.635</td>\n",
       "    </tr>\n",
       "  </tbody>\n",
       "</table>\n",
       "</div>"
      ],
      "text/plain": [
       "   serial name element  resSeq resName  chainID segmentID      x      y      z\n",
       "0       1    N       N       1     TRP        0            2.108  2.666  1.701\n",
       "1       2    H       H       1     TRP        0            2.059  2.724  1.635"
      ]
     },
     "execution_count": 78,
     "metadata": {},
     "output_type": "execute_result"
    }
   ],
   "source": [
    "old_df.loc[old_df.index.isin([atom_1, atom_2]), :]"
   ]
  },
  {
   "cell_type": "code",
   "execution_count": 79,
   "id": "legal-filter",
   "metadata": {},
   "outputs": [
    {
     "data": {
      "text/html": [
       "<div>\n",
       "<style scoped>\n",
       "    .dataframe tbody tr th:only-of-type {\n",
       "        vertical-align: middle;\n",
       "    }\n",
       "\n",
       "    .dataframe tbody tr th {\n",
       "        vertical-align: top;\n",
       "    }\n",
       "\n",
       "    .dataframe thead th {\n",
       "        text-align: right;\n",
       "    }\n",
       "</style>\n",
       "<table border=\"1\" class=\"dataframe\">\n",
       "  <thead>\n",
       "    <tr style=\"text-align: right;\">\n",
       "      <th></th>\n",
       "      <th>serial</th>\n",
       "      <th>name</th>\n",
       "      <th>element</th>\n",
       "      <th>resSeq</th>\n",
       "      <th>resName</th>\n",
       "      <th>chainID</th>\n",
       "      <th>segmentID</th>\n",
       "      <th>x</th>\n",
       "      <th>y</th>\n",
       "      <th>z</th>\n",
       "    </tr>\n",
       "  </thead>\n",
       "  <tbody>\n",
       "    <tr>\n",
       "      <th>0</th>\n",
       "      <td>1</td>\n",
       "      <td>N</td>\n",
       "      <td>N</td>\n",
       "      <td>1</td>\n",
       "      <td>TRP</td>\n",
       "      <td>0</td>\n",
       "      <td></td>\n",
       "      <td>2.108000</td>\n",
       "      <td>2.666000</td>\n",
       "      <td>1.701000</td>\n",
       "    </tr>\n",
       "    <tr>\n",
       "      <th>1</th>\n",
       "      <td>2</td>\n",
       "      <td>H</td>\n",
       "      <td>H</td>\n",
       "      <td>1</td>\n",
       "      <td>TRP</td>\n",
       "      <td>0</td>\n",
       "      <td></td>\n",
       "      <td>2.034941</td>\n",
       "      <td>2.752478</td>\n",
       "      <td>1.602594</td>\n",
       "    </tr>\n",
       "  </tbody>\n",
       "</table>\n",
       "</div>"
      ],
      "text/plain": [
       "   serial name element  resSeq resName  chainID segmentID         x         y  \\\n",
       "0       1    N       N       1     TRP        0            2.108000  2.666000   \n",
       "1       2    H       H       1     TRP        0            2.034941  2.752478   \n",
       "\n",
       "          z  \n",
       "0  1.701000  \n",
       "1  1.602594  "
      ]
     },
     "execution_count": 79,
     "metadata": {},
     "output_type": "execute_result"
    }
   ],
   "source": [
    "new_df.loc[new_df.index.isin([atom_1, atom_2]), :]"
   ]
  },
  {
   "cell_type": "markdown",
   "id": "rubber-accident",
   "metadata": {},
   "source": [
    "From pymol: \n"
   ]
  },
  {
   "cell_type": "markdown",
   "id": "forty-lingerie",
   "metadata": {},
   "source": [
    "old: \n",
    "<img src=\"data/old_bond.png\" alt=\"Drawing\" style=\"width: 600px;\"/>\n",
    "new:\n",
    "<img src=\"data/new_bond.png\" alt=\"Drawing\" style=\"width: 600px;\"/>"
   ]
  }
 ],
 "metadata": {
  "kernelspec": {
   "display_name": "Python 3",
   "language": "python",
   "name": "python3"
  },
  "language_info": {
   "codemirror_mode": {
    "name": "ipython",
    "version": 3
   },
   "file_extension": ".py",
   "mimetype": "text/x-python",
   "name": "python",
   "nbconvert_exporter": "python",
   "pygments_lexer": "ipython3",
   "version": "3.8.0"
  }
 },
 "nbformat": 4,
 "nbformat_minor": 5
}
